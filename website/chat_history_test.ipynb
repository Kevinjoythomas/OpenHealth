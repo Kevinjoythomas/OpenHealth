{
 "cells": [
  {
   "cell_type": "code",
   "execution_count": 57,
   "metadata": {},
   "outputs": [],
   "source": [
    "from langchain_ollama import OllamaLLM\n",
    "from langchain_community.llms.ollama import Ollama\n",
    "from langchain_community.embeddings.ollama import OllamaEmbeddings\n",
    "from langchain_community.vectorstores import Chroma\n",
    "from langchain.prompts import ChatPromptTemplate, MessagesPlaceholder\n",
    "from langchain_ollama import OllamaEmbeddings\n",
    "from langchain_chroma import Chroma\n",
    "from langchain.chains.combine_documents import create_stuff_documents_chain\n",
    "from langchain.chains import create_history_aware_retriever,create_retrieval_chain\n",
    "from langchain_community.chat_message_histories import ChatMessageHistory\n",
    "from langchain_core.chat_history import BaseChatMessageHistory\n",
    "from langchain_core.runnables.history import RunnableWithMessageHistory"
   ]
  },
  {
   "cell_type": "code",
   "execution_count": 58,
   "metadata": {},
   "outputs": [],
   "source": [
    "CHROMA_PATH = \"./chroma\"\n",
    "PROMPT_TEMPLATE = \"\"\"\n",
    "You are a medical professional chatting with a paitent. Answer the question like a doctor in a hospital texting his paitent and can only help with advice through phone and no physical examination. It should consist of paragraph and conversational aspect rather than just a summary. Answer the asked question briefly. Answer in a professional tone:\n",
    "\n",
    "{context}\n",
    "\n",
    "---\n",
    "\n",
    "Answer the question based on your knowledge and using the above context for help and answer like you are a proffesional at medical issues and dont give the hint that you dont know a particular topic: {question}\n",
    "\"\"\""
   ]
  },
  {
   "cell_type": "code",
   "execution_count": 59,
   "metadata": {},
   "outputs": [
    {
     "name": "stdout",
     "output_type": "stream",
     "text": [
      "Human: \n",
      "You are a medical professional chatting with a paitent. Answer the question like a doctor in a hospital texting his paitent and can only help with advice through phone and no physical examination. It should consist of paragraph and conversational aspect rather than just a summary. Answer the asked question briefly. Answer in a professional tone:\n",
      "\n",
      "and evaluate for contraindications and interactions. Rec-\n",
      "ommendations are limited to drugs, devices, and treat-\n",
      "ments approved for clinical use in the United States.\n",
      "Patrick T. O’Gara, MD, MACC, FAHA\n",
      "Chair, ACC/AHA Joint Committee on  \n",
      "Clinical Practice Guidelines\n",
      "1. INTRODUCTION\n",
      "1.1. Methodology and Evidence Review\n",
      "The recommendations listed in this guideline are, \n",
      "whenever possible, evidence based. An initial exten-\n",
      "sive evidence review, which included literature derived \n",
      "from research involving human subjects, published in \n",
      "English, and indexed in MEDLINE (through PubMed), \n",
      "EMBASE, the Cochrane Library, the Agency for \n",
      "Healthcare Research and Quality, and other selected \n",
      "databases relevant to this guideline, was conducted \n",
      "from November 11, 2017 , to May 1, 2020. Key search\n",
      "\n",
      "---\n",
      "\n",
      "to ensure that documents are developed without bias or \n",
      "improper influence. The complete policy on relationships \n",
      "with industry and other entities (RWI) can be found online. \n",
      "Appendix 1 of the guideline lists writing committee mem-\n",
      "bers’ relevant RWI; for the purposes of full transparency, \n",
      "their comprehensive disclosure information is available in \n",
      "the Supplemental Appendix. Comprehensive disclosure in-\n",
      "formation for the Joint Committee is also available online.\n",
      "Evidence Review and Evidence Review \n",
      "Committees\n",
      "In developing recommendations, the writing committee \n",
      "uses evidence-based methodologies that are based on all \n",
      "available data.4,5 Literature searches focus on randomized \n",
      "controlled trials (RCTs) but also include registries, nonran-\n",
      "\n",
      "---\n",
      "\n",
      "Assessment of Left Ventricular Function\n",
      "1 B-NR\n",
      "6. In intermediate-high risk patients with stable \n",
      "chest pain who have pathological Q waves, \n",
      "symptoms or signs suggestive of heart failure, \n",
      "complex ventricular arrhythmias, or a heart \n",
      "murmur with unclear diagnosis, use of TTE is \n",
      "effective for diagnosis of resting left ventricular \n",
      "systolic and diastolic ventricular function and \n",
      "detection of myocardial, valvular, and pericardial \n",
      "abnormalities.13,14,52\n",
      "Sequential or Add-on Testing: What to Do if Index Test Results are Positive \n",
      "or Inconclusive\n",
      "2a B-NR\n",
      "7 . For intermediate-high risk patients with stable \n",
      "chest pain and known coronary stenosis of \n",
      "40% to 90% in a proximal or middle coronary \n",
      "segment on CCTA, FFR-CT can be useful for \n",
      "diagnosis of vessel-specific ischemia and to\n",
      "\n",
      "---\n",
      "\n",
      "of an intermediate coronary stenosis as it provides \n",
      "insight into the patient’s presenting symptoms and \n",
      "can help guide clinical management.\n",
      "5.2.3. Patients With Suspected Ischemia and No \n",
      "Obstructive CAD (INOCA)\n",
      "Recommendations for myocardial blood flow measure-\n",
      "ments using PET, echocardiography, and CMR are found \n",
      "in Section 5.2.2.\n",
      "Recommendations for Patients With INOCA\n",
      "Referenced studies that support the recommendations are \n",
      "summarized in Online Data Supplements 36 and 37.\n",
      "COR LOE Recommendations\n",
      "2a B-NR\n",
      "1. For patients with persistent stable chest \n",
      "pain and nonobstructive CAD and at least \n",
      "mild myocardial ischemia on imaging, it is \n",
      "reasonable to consider invasive coronary \n",
      "function testing to improve the diagnosis of \n",
      "coronary microvascular dysfunction and to\n",
      "\n",
      "---\n",
      "\n",
      "geted sections/knowledge chunks will be revised \n",
      "dynamically after publication and timely peer review of \n",
      "potentially practice-changing science. The previous des-\n",
      "ignations of “full revision” and “focused update” will be \n",
      "phased out. For additional information and policies on \n",
      "guideline development, readers may consult the ACC/\n",
      "AHA guideline methodology manual4 and other method-\n",
      "ology articles. 5-7 The Class of Recommendation (COR) \n",
      "indicates the strength of recommendation, encompass-\n",
      "ing the estimated magnitude and certainty of benefit in \n",
      "proportion to risk. The Level of Evidence (LOE) rates the \n",
      "quality of scientific evidence supporting the intervention \n",
      "on the basis of the type, quantity, and consistency of data \n",
      "from clinical trials and other sources (Table 1).4\n",
      "\n",
      "---\n",
      "\n",
      "Answer the question based on your knowledge and using the above context for help and answer like you are a proffesional at medical issues and dont give the hint that you dont know a particular topic: hello my head is hurting and i have vomiting. what should i do\n",
      " Number of db docs 7\n"
     ]
    }
   ],
   "source": [
    "user_prompt = \"hello my head is hurting and i have vomiting. what should i do\"\n",
    "\n",
    "# gatePrompt = f\"<|start_header_id|>system<|end_header_id|>I will now give you a question. This question should only be related to medical queries or advice. If it is related to medical queries or advice, then reply with 'True' and nothing else, no explanation, nothing, just 'True'. If it's not related to medical info, then just say 'False' and nothing else, no explanation, nothing, just 'False'. Just reply with either True or False and nothing else.<|eot_id|><|start_header_id|>user<|end_header_id|> This is the question: {user_prompt}<|eot_id|>\"\n",
    "# gatedModel = OllamaLLM(model=\"llama3\")\n",
    "# gateResult = gatedModel.invoke(gatePrompt)\n",
    "\n",
    "# if(str.lower(gateResult) == \"false\"):\n",
    "#     print(\"This query is not related to medical field. Please ask related queries.\")\n",
    "#     exit(0)\n",
    "\n",
    "embedding_function = OllamaEmbeddings(model=\"nomic-embed-text\")\n",
    "db = Chroma(persist_directory=CHROMA_PATH,embedding_function=embedding_function)\n",
    "retriever = db.as_retriever()\n",
    " \n",
    "# results = db.similarity_search_with_score(user_prompt,k=5)\n",
    "\n",
    "# context_text = \"\\n\\n---\\n\\n\".join([doc.page_content for doc, _score in results])\n",
    "# prompt_template = ChatPromptTemplate.from_template(PROMPT_TEMPLATE)\n",
    "# prompt = prompt_template.format(context=context_text,question=user_prompt)\n",
    "# print(prompt, \"Number of db docs\", len(db.get()))"
   ]
  },
  {
   "cell_type": "code",
   "execution_count": 60,
   "metadata": {},
   "outputs": [],
   "source": [
    "model = OllamaLLM(model=\"llama3.2\")\n",
    "# response = model.invoke(prompt)\n",
    "# print(\"The response is \\n\",response)"
   ]
  },
  {
   "cell_type": "code",
   "execution_count": 61,
   "metadata": {},
   "outputs": [],
   "source": [
    "contextualize_q_system_prompt=(\n",
    "            \"Given a chat history and the latest user question\"\n",
    "            \"which might reference context in the chat history, \"\n",
    "            \"formulate a standalone question which can be understood \"\n",
    "            \"without the chat history. Do NOT answer the question, \"\n",
    "            \"just reformulate it if needed and otherwise return it as is.\"\n",
    "        )"
   ]
  },
  {
   "cell_type": "code",
   "execution_count": 62,
   "metadata": {},
   "outputs": [],
   "source": [
    "contextualize_q_prompt = ChatPromptTemplate.from_messages(\n",
    "    [\n",
    "        (\"system\",contextualize_q_system_prompt),\n",
    "        MessagesPlaceholder(\"chat_history\"),\n",
    "        (\"human\",\"{input}\"),\n",
    "    ]\n",
    ")"
   ]
  },
  {
   "cell_type": "code",
   "execution_count": 63,
   "metadata": {},
   "outputs": [],
   "source": [
    "history_aware_retriever = create_history_aware_retriever(model,retriever,contextualize_q_prompt)"
   ]
  },
  {
   "cell_type": "code",
   "execution_count": 64,
   "metadata": {},
   "outputs": [],
   "source": [
    "system_prompt = (\n",
    "    \"You are a highly experienced medical professional communicating with a patient via text. Your role is to provide clear, concise, and empathetic advice based on the patient's concerns, as you cannot perform physical examinations remotely. Maintain a professional and approachable tone, similar to a doctor conversing with a patient in a hospital. Engage in a conversational manner rather than offering dry summaries.\"\n",
    "    \"\\n\\n\"\n",
    "    \"Your primary goals are:\"\n",
    "    \"1. To provide accurate medical advice or guidance based on the given context.\"\n",
    "    \"2. To ask clarifying questions if more information is needed to better understand the patient's concerns.\"\n",
    "    \"3. To remain confident and professional, avoiding statements that suggest uncertainty or lack of knowledge.\"\n",
    "    \"\\n\\n\"\n",
    "    \"{context}\"\n",
    "    \"\\n\\n\"\n",
    "    \"Use the information above and your medical expertise to craft responses tailored to the patient's needs. Ensure the advice is consice, actionable, empathetic, and relevant to the context provided and NEVER give the hint that you dont know a particular topic or ask them to meet anyone else for help.\"\n",
    ")\n"
   ]
  },
  {
   "cell_type": "code",
   "execution_count": 65,
   "metadata": {},
   "outputs": [],
   "source": [
    "qa_prompt = ChatPromptTemplate.from_messages(\n",
    "    [\n",
    "        (\"system\",system_prompt),\n",
    "        MessagesPlaceholder(\"chat_history\"),\n",
    "        (\"human\",\"{input}\")\n",
    "    ]\n",
    ")"
   ]
  },
  {
   "cell_type": "code",
   "execution_count": 66,
   "metadata": {},
   "outputs": [],
   "source": [
    "question_answer_chain = create_stuff_documents_chain(model,qa_prompt)\n",
    "rag_chain = create_retrieval_chain(history_aware_retriever,question_answer_chain)"
   ]
  },
  {
   "cell_type": "code",
   "execution_count": 67,
   "metadata": {},
   "outputs": [],
   "source": [
    "sessions = {}"
   ]
  },
  {
   "cell_type": "code",
   "execution_count": 68,
   "metadata": {},
   "outputs": [],
   "source": [
    "session_id = \"convo\""
   ]
  },
  {
   "cell_type": "code",
   "execution_count": 69,
   "metadata": {},
   "outputs": [],
   "source": [
    "def get_session_history(session:str)->BaseChatMessageHistory:\n",
    "    if session_id not in sessions:\n",
    "        sessions[session_id] = ChatMessageHistory()\n",
    "    return sessions[session_id]"
   ]
  },
  {
   "cell_type": "code",
   "execution_count": 70,
   "metadata": {},
   "outputs": [],
   "source": [
    "conversational_rag_chain = RunnableWithMessageHistory(\n",
    "    rag_chain,get_session_history,\n",
    "    input_messages_key=\"input\",\n",
    "    history_messages_key = \"chat_history\",\n",
    "    output_messages_key = \"answer\"\n",
    ")"
   ]
  },
  {
   "cell_type": "code",
   "execution_count": 71,
   "metadata": {},
   "outputs": [],
   "source": [
    "response  = conversational_rag_chain.invoke(\n",
    "    {\"input\":user_prompt},\n",
    "    config={\n",
    "        \"configurable\":{\"session_id\":session_id}\n",
    "    }\n",
    ")"
   ]
  },
  {
   "cell_type": "code",
   "execution_count": 72,
   "metadata": {},
   "outputs": [
    {
     "data": {
      "text/plain": [
       "\"I'm so sorry to hear that you're experiencing these symptoms. It's understandable to feel concerned when we're not feeling well.\\n\\nCan you tell me more about the pain in your head? Is it a dull ache or does it come and go? Also, how long have you been vomiting, and is there anything that triggers it?\\n\\nIt's also important for me to know if you've experienced any other symptoms, such as fever, confusion, or weakness. This will help me get a better understanding of what might be going on.\\n\\nIn the meantime, I want to reassure you that these symptoms can sometimes be related to stress, dehydration, or a minor issue that can resolve on its own with some rest and hydration. However, it's always best to consult a doctor if we're unsure about what's causing them.\\n\\nI'm here to help and support you. Please take care of yourself, and I'll do my best to guide you through this.\""
      ]
     },
     "execution_count": 72,
     "metadata": {},
     "output_type": "execute_result"
    }
   ],
   "source": [
    "response[\"answer\"]"
   ]
  },
  {
   "cell_type": "code",
   "execution_count": 73,
   "metadata": {},
   "outputs": [],
   "source": [
    "user_prompt = \"it all started after i ate biriyani from a local place and then morning i vomited 3 times and had light headedness and low bp\""
   ]
  },
  {
   "cell_type": "code",
   "execution_count": 74,
   "metadata": {},
   "outputs": [],
   "source": [
    "response  = conversational_rag_chain.invoke(\n",
    "    {\"input\":user_prompt},\n",
    "    config={\n",
    "        \"configurable\":{\"session_id\":session_id}\n",
    "    }\n",
    ")"
   ]
  },
  {
   "cell_type": "code",
   "execution_count": 75,
   "metadata": {},
   "outputs": [
    {
     "data": {
      "text/plain": [
       "\"Thank you for sharing more about your symptoms. It sounds like the headache and vomiting may be related to what you ate for lunch, specifically the biryani.\\n\\nI'm going to take a guess that the combination of food and potentially spicy or heavy ingredients might have caused an upset stomach, leading to nausea and vomiting. The light-headedness and low blood pressure could also be related to dehydration.\\n\\nIn the meantime, I would recommend staying hydrated by drinking plenty of water and clear fluids, such as coconut water or electrolyte-rich beverages like sports drinks. You can also try ginger tea or crackers to help settle your stomach.\\n\\nIt's a good idea to avoid heavy or greasy foods for now and opt for bland, easy-to-digest options like bananas, rice, applesauce, or toast (BRAT diet). If you're feeling up to it, take small sips of water or other fluids throughout the day.\\n\\nIf your symptoms persist or worsen, I would encourage you to visit a doctor or urgent care center as soon as possible. They can assess your condition and provide further guidance on how to manage your symptoms.\\n\\nPlease keep me updated on how you're feeling, and let me know if there's anything else I can do to support you.\""
      ]
     },
     "execution_count": 75,
     "metadata": {},
     "output_type": "execute_result"
    }
   ],
   "source": [
    "response[\"answer\"]"
   ]
  },
  {
   "cell_type": "code",
   "execution_count": 76,
   "metadata": {},
   "outputs": [],
   "source": [
    "user_prompt = \"i forgot why i amm talking to you can you tell my symptoms again\""
   ]
  },
  {
   "cell_type": "code",
   "execution_count": 77,
   "metadata": {},
   "outputs": [],
   "source": [
    "response  = conversational_rag_chain.invoke(\n",
    "    {\"input\":user_prompt},\n",
    "    config={\n",
    "        \"configurable\":{\"session_id\":session_id}\n",
    "    }\n",
    ")"
   ]
  },
  {
   "cell_type": "code",
   "execution_count": 78,
   "metadata": {},
   "outputs": [
    {
     "data": {
      "text/plain": [
       "\"I'd be happy to remind you of your symptoms. To recap, you mentioned experiencing a headache after eating biryani for lunch, followed by vomiting three times in the morning, feeling light-headed, and having low blood pressure.\\n\\nYou also mentioned that you've been feeling a bit dizzy and unwell since then, which is why I suggested staying hydrated with plenty of water and clear fluids. We also discussed avoiding heavy or greasy foods for now and opting for bland, easy-to-digest options like bananas, rice, applesauce, or toast.\\n\\nIf your symptoms persist or worsen, it's still important to visit a doctor or urgent care center as soon as possible so they can assess your condition and provide further guidance. Can I ask, how are you feeling now? Are there any changes in your symptoms that you've noticed since we last spoke?\""
      ]
     },
     "execution_count": 78,
     "metadata": {},
     "output_type": "execute_result"
    }
   ],
   "source": [
    "response[\"answer\"]"
   ]
  },
  {
   "cell_type": "markdown",
   "metadata": {},
   "source": []
  },
  {
   "cell_type": "code",
   "execution_count": 1,
   "metadata": {},
   "outputs": [],
   "source": [
    "from langchain_ollama import OllamaLLM"
   ]
  },
  {
   "cell_type": "code",
   "execution_count": 11,
   "metadata": {},
   "outputs": [],
   "source": [
    "llama_model = OllamaLLM(model=\"hf.co/kevinjoythomas/medical-loratuned-chatbot-GGUF\")\n"
   ]
  },
  {
   "cell_type": "code",
   "execution_count": 12,
   "metadata": {},
   "outputs": [
    {
     "name": "stdout",
     "output_type": "stream",
     "text": [
      "Hi! Welcome to Chat Doctor. I have gone through your concern and can understand that you are worried about your son's behavior. The symptoms he is showing like not being able to sit still, hyperactive, impulsive behavior etc., are classic features of ADHD (Attention Deficit Hyperactivity Disorder). It is possible that your son might be having this condition which can affect his academic performance and social behavior. I would advise you the following things- Consult a psychologist for detailed evaluation and assessment of your child's symptoms. There is no cure but proper treatment like medicines, behavioral therapy and counseling by a qualified mental health professional can help in improving the symptoms. Hope I have answered your question. Feel free to ask further if needed. Thank you.\n"
     ]
    }
   ],
   "source": [
    "print(llama_model.invoke(\"hello\"))"
   ]
  },
  {
   "cell_type": "code",
   "execution_count": null,
   "metadata": {},
   "outputs": [],
   "source": []
  }
 ],
 "metadata": {
  "kernelspec": {
   "display_name": "chromadb",
   "language": "python",
   "name": "python3"
  },
  "language_info": {
   "codemirror_mode": {
    "name": "ipython",
    "version": 3
   },
   "file_extension": ".py",
   "mimetype": "text/x-python",
   "name": "python",
   "nbconvert_exporter": "python",
   "pygments_lexer": "ipython3",
   "version": "3.10.16"
  }
 },
 "nbformat": 4,
 "nbformat_minor": 2
}
